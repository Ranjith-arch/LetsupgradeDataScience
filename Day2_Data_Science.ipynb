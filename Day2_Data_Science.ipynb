{
  "nbformat": 4,
  "nbformat_minor": 0,
  "metadata": {
    "colab": {
      "name": "Day2 Data Science.ipynb",
      "provenance": [],
      "authorship_tag": "ABX9TyOqL00wTXZj15c0LTY+LVRj",
      "include_colab_link": true
    },
    "kernelspec": {
      "name": "python3",
      "display_name": "Python 3"
    }
  },
  "cells": [
    {
      "cell_type": "markdown",
      "metadata": {
        "id": "view-in-github",
        "colab_type": "text"
      },
      "source": [
        "<a href=\"https://colab.research.google.com/github/Ranjith-arch/LetsupgradeDataScience/blob/main/Day2_Data_Science.ipynb\" target=\"_parent\"><img src=\"https://colab.research.google.com/assets/colab-badge.svg\" alt=\"Open In Colab\"/></a>"
      ]
    },
    {
      "cell_type": "markdown",
      "metadata": {
        "id": "xi3Cb38iWI7l"
      },
      "source": [
        "# Question1"
      ]
    },
    {
      "cell_type": "code",
      "metadata": {
        "id": "29yLoSorWQUY",
        "outputId": "9407bccf-b963-40ec-a1c9-53788470b8f9",
        "colab": {
          "base_uri": "https://localhost:8080/"
        }
      },
      "source": [
        " \n",
        " \n",
        " \n",
        "l=[]\n",
        "for i in range(10):\n",
        "    a=int(input())\n",
        "    if(a%2==0):\n",
        "        l.append(a)\n",
        "print(l)"
      ],
      "execution_count": null,
      "outputs": [
        {
          "output_type": "stream",
          "text": [
            "1\n",
            "2\n",
            "3\n",
            "4\n",
            "5\n",
            "7\n",
            "8\n",
            "9\n",
            "10\n",
            "11\n",
            "[2, 4, 8, 10]\n"
          ],
          "name": "stdout"
        }
      ]
    },
    {
      "cell_type": "markdown",
      "metadata": {
        "id": "Hft9sBGfWnJW"
      },
      "source": [
        "#Question2"
      ]
    },
    {
      "cell_type": "code",
      "metadata": {
        "id": "YkuFEjhIWqEW",
        "outputId": "ff13870f-35d2-4998-eca0-3100a609e087",
        "colab": {
          "base_uri": "https://localhost:8080/"
        }
      },
      "source": [
        " \n",
        "print(\"------------------------\")\n",
        "l=[i for i in range(1,11)]#printing the list of first 10 natural numbers\n",
        "print(l)\n",
        "print(\"------------------------\")\n",
        "l=[i%2 for i in range(10)]#printing 0 for even 1 for odd\n",
        "print(l)\n",
        "print(\"------------------------\")\n",
        "l=[i**2 for i in range(10)]#printing squares of numbers\n",
        "print(l)\n",
        "print(\"------------------------\")\n",
        "l=[i for i in range(10) if i%2==0]#printing even numbers\n",
        "print(l)\n",
        "print(\"------------------------\")\n",
        "l=[i for i in range(10) if i%2!=0]#printing odd numbers\n",
        "print(l)\n",
        "print(\"------------------------\")"
      ],
      "execution_count": null,
      "outputs": [
        {
          "output_type": "stream",
          "text": [
            "------------------------\n",
            "[1, 2, 3, 4, 5, 6, 7, 8, 9, 10]\n",
            "------------------------\n",
            "[0, 1, 0, 1, 0, 1, 0, 1, 0, 1]\n",
            "------------------------\n",
            "[0, 1, 4, 9, 16, 25, 36, 49, 64, 81]\n",
            "------------------------\n",
            "[0, 2, 4, 6, 8]\n",
            "------------------------\n",
            "[1, 3, 5, 7, 9]\n",
            "------------------------\n"
          ],
          "name": "stdout"
        }
      ]
    },
    {
      "cell_type": "markdown",
      "metadata": {
        "id": "_JcN8e43WxQB"
      },
      "source": [
        "#Question3"
      ]
    },
    {
      "cell_type": "code",
      "metadata": {
        "id": "Z14fVVaJWzuZ",
        "outputId": "00f93643-2067-45b7-838e-2de433ba8880",
        "colab": {
          "base_uri": "https://localhost:8080/"
        }
      },
      "source": [
        " \n",
        "d={}\n",
        "n =int(input())\n",
        "for i in range(1,n+1):\n",
        "    d[i]=i**2\n",
        "print(d)"
      ],
      "execution_count": null,
      "outputs": [
        {
          "output_type": "stream",
          "text": [
            "4\n",
            "{1: 1, 2: 4, 3: 9, 4: 16}\n"
          ],
          "name": "stdout"
        }
      ]
    },
    {
      "cell_type": "markdown",
      "metadata": {
        "id": "AmJOBoC7W6Ut"
      },
      "source": [
        "#Question4"
      ]
    },
    {
      "cell_type": "code",
      "metadata": {
        "id": "_WhJS4enW8dR",
        "outputId": "ca215c2e-a6bc-4745-dfe2-e70ed2a04534",
        "colab": {
          "base_uri": "https://localhost:8080/"
        }
      },
      "source": [
        " \n",
        "x=0\n",
        "y=0\n",
        "dis=0\n",
        "n=int(input())\n",
        "for i in range(n):\n",
        "    l=input().upper().split()\n",
        "    if l[0]=='RIGHT':\n",
        "        x+=int(l[1])\n",
        "    elif l[0]=='LEFT':\n",
        "        x-=int(l[1])\n",
        "    elif l[0]=='UP':\n",
        "        y+=int(l[1])\n",
        "    elif l[0]=='DOWN':\n",
        "        y-=int(l[1])\n",
        "dis=dis+(((x**2)+(y**2))**0.5)\n",
        "print(round(dis))"
      ],
      "execution_count": null,
      "outputs": [
        {
          "output_type": "stream",
          "text": [
            "4\n",
            "6\n",
            "7\n",
            "8\n",
            "9\n",
            "0\n"
          ],
          "name": "stdout"
        }
      ]
    },
    {
      "cell_type": "code",
      "metadata": {
        "id": "WyNmXOJdWLZ3",
        "outputId": "a219ad55-6ab2-4b4e-ca9c-37f437760a02",
        "colab": {
          "base_uri": "https://localhost:8080/"
        }
      },
      "source": [
        " x=0\n",
        "y=0\n",
        "dis=0\n",
        "n=int(input())\n",
        "for i in range(n):\n",
        "    l=input().upper().split()\n",
        "    if l[0]=='RIGHT':\n",
        "        x+=int(l[1])\n",
        "    elif l[0]=='LEFT':\n",
        "        x-=int(l[1])\n",
        "    elif l[0]=='UP':\n",
        "        y+=int(l[1])\n",
        "    elif l[0]=='DOWN':\n",
        "        y-=int(l[1])\n",
        "dis=dis+(((x**2)+(y**2))**0.5)\n",
        "print(round(dis))"
      ],
      "execution_count": null,
      "outputs": [
        {
          "output_type": "stream",
          "text": [
            "4\n",
            "Up 7\n",
            "Down 9\n",
            "Left 8\n",
            "Right 6\n",
            "3\n"
          ],
          "name": "stdout"
        }
      ]
    }
  ]
}