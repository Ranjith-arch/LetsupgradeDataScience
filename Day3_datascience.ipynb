{
  "nbformat": 4,
  "nbformat_minor": 0,
  "metadata": {
    "colab": {
      "name": "Day3 datascience.ipynb",
      "provenance": [],
      "authorship_tag": "ABX9TyNT1BAjTe2XsFtIM7Nsr2fC",
      "include_colab_link": true
    },
    "kernelspec": {
      "name": "python3",
      "display_name": "Python 3"
    }
  },
  "cells": [
    {
      "cell_type": "markdown",
      "metadata": {
        "id": "view-in-github",
        "colab_type": "text"
      },
      "source": [
        "<a href=\"https://colab.research.google.com/github/Ranjith-arch/LetsupgradeDataScience/blob/main/Day3_datascience.ipynb\" target=\"_parent\"><img src=\"https://colab.research.google.com/assets/colab-badge.svg\" alt=\"Open In Colab\"/></a>"
      ]
    },
    {
      "cell_type": "code",
      "metadata": {
        "id": "sQMThx1ySzh7"
      },
      "source": [
        " import numpy as np"
      ],
      "execution_count": 1,
      "outputs": []
    },
    {
      "cell_type": "markdown",
      "metadata": {
        "id": "1MRYNVJwS9n1"
      },
      "source": [
        " # Question1"
      ]
    },
    {
      "cell_type": "code",
      "metadata": {
        "id": "15ie98skTXkk",
        "outputId": "caaeb9a4-3de2-4cef-f2ec-6a097f2cdf7c",
        "colab": {
          "base_uri": "https://localhost:8080/"
        }
      },
      "source": [
        " \n",
        "# Create a numpy array starting from 2 till 50 with a stepsize of 3.\n",
        "# a=np.array([i for i in range(2,50,3)])\n",
        "a=np.arange(2,50,3)\n",
        "print(a)"
      ],
      "execution_count": 2,
      "outputs": [
        {
          "output_type": "stream",
          "text": [
            "[ 2  5  8 11 14 17 20 23 26 29 32 35 38 41 44 47]\n"
          ],
          "name": "stdout"
        }
      ]
    },
    {
      "cell_type": "markdown",
      "metadata": {
        "id": "ERDcL8GdUHnY"
      },
      "source": [
        "# Question2"
      ]
    },
    {
      "cell_type": "code",
      "metadata": {
        "id": "HA7E5SFlUKbu",
        "outputId": "ee48ab62-7d77-4faf-8927-af7c0c119c31",
        "colab": {
          "base_uri": "https://localhost:8080/"
        }
      },
      "source": [
        " \n",
        "# Accept two lists of 5 elements each from the user.\n",
        "# Convert them to numpy arrays. Concatenate these arrays and print it. Also sort these arrays and print it.\n",
        "l1=[]\n",
        "l2=[]\n",
        "for _ in range(5):\n",
        "    l1.append(int(input())) #input\n",
        "for _ in range(5):\n",
        "    l2.append(int(input())) #input\n",
        "l1=np.array(l1)\n",
        "l2=np.array(l2)\n",
        "l=np.append(l1,l2)\n",
        "l.sort()\n",
        "print(l)"
      ],
      "execution_count": 3,
      "outputs": [
        {
          "output_type": "stream",
          "text": [
            "8390\n",
            "990\n",
            "0000\n",
            "766\n",
            "6\n",
            "89\n",
            "789\n",
            "89\n",
            "3\n",
            "36\n",
            "[   0    3    6   36   89   89  766  789  990 8390]\n"
          ],
          "name": "stdout"
        }
      ]
    },
    {
      "cell_type": "markdown",
      "metadata": {
        "id": "To2wWQa2UiEC"
      },
      "source": [
        " # Question3"
      ]
    },
    {
      "cell_type": "code",
      "metadata": {
        "id": "f5gjnR5PU0KD",
        "outputId": "65866534-528d-455a-e859-a882b88f5c42",
        "colab": {
          "base_uri": "https://localhost:8080/"
        }
      },
      "source": [
        " \n",
        "# Write a code snippet to find the dimensions of a ndarray and its size.\n",
        "ndarr=np.array([[1,2,3],[3,4,5],[4,5,6]])\n",
        "print(ndarr.shape)\n",
        "print(ndarr.size)"
      ],
      "execution_count": 4,
      "outputs": [
        {
          "output_type": "stream",
          "text": [
            "(3, 3)\n",
            "9\n"
          ],
          "name": "stdout"
        }
      ]
    },
    {
      "cell_type": "markdown",
      "metadata": {
        "id": "j3sMqse3frD4"
      },
      "source": [
        "# Question4"
      ]
    },
    {
      "cell_type": "code",
      "metadata": {
        "id": "6uH-6u9Pft21",
        "outputId": "7a319985-5884-4d54-c5a5-bec1d3c6180e",
        "colab": {
          "base_uri": "https://localhost:8080/"
        }
      },
      "source": [
        " \n",
        "# How to convert a 1D array into a 2D array? Demonstrate with the help of a code snippet\n",
        "b=np.array([1,2,3,4,5,6,7,8,9,10,11,12])\n",
        "print(b)\n",
        "b=b.reshape(4,3)\n",
        "print(b)"
      ],
      "execution_count": 5,
      "outputs": [
        {
          "output_type": "stream",
          "text": [
            "[ 1  2  3  4  5  6  7  8  9 10 11 12]\n",
            "[[ 1  2  3]\n",
            " [ 4  5  6]\n",
            " [ 7  8  9]\n",
            " [10 11 12]]\n"
          ],
          "name": "stdout"
        }
      ]
    },
    {
      "cell_type": "markdown",
      "metadata": {
        "id": "cBQgiwQ0fy7Q"
      },
      "source": [
        " # Question5"
      ]
    },
    {
      "cell_type": "code",
      "metadata": {
        "id": "B0emoeVCf1n1",
        "outputId": "777dc3af-cf5c-4765-930a-7b67ca1da9e0",
        "colab": {
          "base_uri": "https://localhost:8080/"
        }
      },
      "source": [
        " \n",
        "# Consider two square numpy arrays. Stack them vertically and horizontally.\n",
        "# Hint: Use vstack(), hstack()\n",
        "s1=np.arange(16).reshape(4,4)\n",
        "s2=np.arange(16).reshape(4,4)\n",
        "print(\"Stacking vertically\")\n",
        "print(np.hstack((s1,s2)))\n",
        "print(\"------------------------\")\n",
        "print(\"Stacking horizontally\")\n",
        "print(np.vstack((s1,s2)))"
      ],
      "execution_count": 6,
      "outputs": [
        {
          "output_type": "stream",
          "text": [
            "Stacking vertically\n",
            "[[ 0  1  2  3  0  1  2  3]\n",
            " [ 4  5  6  7  4  5  6  7]\n",
            " [ 8  9 10 11  8  9 10 11]\n",
            " [12 13 14 15 12 13 14 15]]\n",
            "------------------------\n",
            "Stacking horizontally\n",
            "[[ 0  1  2  3]\n",
            " [ 4  5  6  7]\n",
            " [ 8  9 10 11]\n",
            " [12 13 14 15]\n",
            " [ 0  1  2  3]\n",
            " [ 4  5  6  7]\n",
            " [ 8  9 10 11]\n",
            " [12 13 14 15]]\n"
          ],
          "name": "stdout"
        }
      ]
    },
    {
      "cell_type": "markdown",
      "metadata": {
        "id": "v7MD5FyDf69e"
      },
      "source": [
        " # Question6"
      ]
    },
    {
      "cell_type": "code",
      "metadata": {
        "id": "m7UCxg6Yf_sy",
        "outputId": "fcdd4323-125a-45a0-a443-44dea99cbc5f",
        "colab": {
          "base_uri": "https://localhost:8080/"
        }
      },
      "source": [
        " \n",
        "# How to get unique items and counts of unique items?\n",
        "number_list = np.array([1, 1, 2, 3, 4, 4, 1])\n",
        "(unique, counts) = np.unique(number_list, return_counts=True)\n",
        "frequencies = np.asarray((unique, counts)).T\n",
        "print(frequencies)"
      ],
      "execution_count": 7,
      "outputs": [
        {
          "output_type": "stream",
          "text": [
            "[[1 3]\n",
            " [2 1]\n",
            " [3 1]\n",
            " [4 2]]\n"
          ],
          "name": "stdout"
        }
      ]
    }
  ]
}