{
  "nbformat": 4,
  "nbformat_minor": 0,
  "metadata": {
    "colab": {
      "name": "Untitled0.ipynb",
      "provenance": [],
      "authorship_tag": "ABX9TyOc2SbJQaWvUpg7jXGe9lCM",
      "include_colab_link": true
    },
    "kernelspec": {
      "name": "python3",
      "display_name": "Python 3"
    }
  },
  "cells": [
    {
      "cell_type": "markdown",
      "metadata": {
        "id": "view-in-github",
        "colab_type": "text"
      },
      "source": [
        "<a href=\"https://colab.research.google.com/github/Ranjith-arch/LetsupgradeDataScience/blob/main/Day4%20data%20science.ipynb\" target=\"_parent\"><img src=\"https://colab.research.google.com/assets/colab-badge.svg\" alt=\"Open In Colab\"/></a>"
      ]
    },
    {
      "cell_type": "markdown",
      "metadata": {
        "id": "eibSqfmA-sU8"
      },
      "source": [
        "#Question1"
      ]
    },
    {
      "cell_type": "code",
      "metadata": {
        "id": "kWhGdQUh-uqw",
        "outputId": "a386c18c-7617-426f-e4fb-5c014620cf08",
        "colab": {
          "base_uri": "https://localhost:8080/"
        }
      },
      "source": [
        " \n",
        "# How to import pandas and check the version?\n",
        "import pandas as pd\n",
        "print(pd.__version__)"
      ],
      "execution_count": 1,
      "outputs": [
        {
          "output_type": "stream",
          "text": [
            "1.1.4\n"
          ],
          "name": "stdout"
        }
      ]
    },
    {
      "cell_type": "markdown",
      "metadata": {
        "id": "TT1GR6J7-2CO"
      },
      "source": [
        "#Question2"
      ]
    },
    {
      "cell_type": "code",
      "metadata": {
        "id": "w7aiM_1_-4bF",
        "outputId": "d780b948-1977-45d3-fe1a-aa524c3b4fe9",
        "colab": {
          "base_uri": "https://localhost:8080/"
        }
      },
      "source": [
        " \n",
        "#How to create a series from a numpy array?\n",
        " \n",
        "import numpy as np\n",
        " \n",
        "import pandas as pd\n",
        " \n",
        "arr = np.array([1, 2, 3, 4, 5, 6, 7, 8, 91, 2, 4, 5, 8, 9, 6, 5, 4, 3, 2, 5])\n",
        "print(\"Array of numpy is :\", arr)\n",
        " \n",
        "print(\"Series of pandas is :\", pd.Series(arr))"
      ],
      "execution_count": 2,
      "outputs": [
        {
          "output_type": "stream",
          "text": [
            "Array of numpy is : [ 1  2  3  4  5  6  7  8 91  2  4  5  8  9  6  5  4  3  2  5]\n",
            "Series of pandas is : 0      1\n",
            "1      2\n",
            "2      3\n",
            "3      4\n",
            "4      5\n",
            "5      6\n",
            "6      7\n",
            "7      8\n",
            "8     91\n",
            "9      2\n",
            "10     4\n",
            "11     5\n",
            "12     8\n",
            "13     9\n",
            "14     6\n",
            "15     5\n",
            "16     4\n",
            "17     3\n",
            "18     2\n",
            "19     5\n",
            "dtype: int64\n"
          ],
          "name": "stdout"
        }
      ]
    },
    {
      "cell_type": "markdown",
      "metadata": {
        "id": "KjTwVvnY_DLs"
      },
      "source": [
        "#Question3"
      ]
    },
    {
      "cell_type": "code",
      "metadata": {
        "id": "HNBCzNTQ_GF2",
        "outputId": "848aede9-694d-408b-b0aa-9943b9cd8594",
        "colab": {
          "base_uri": "https://localhost:8080/"
        }
      },
      "source": [
        " \n",
        "# How to convert the index of a series into a column of a dataframe ?\n",
        " \n",
        "import pandas as pd\n",
        " \n",
        "my_series = pd.Series([1, 2, 3, 4, 5, 6, 7, 8, 9, 3, 4, 5, 6, 7, 8, 9, 2, 3, 4, 5, 6, 7, 8, 9])\n",
        "print(\"Series is :\", my_series)\n",
        " \n",
        "print(\"index of a series into a column of a data frame :\", my_series.to_frame().reset_index())"
      ],
      "execution_count": 3,
      "outputs": [
        {
          "output_type": "stream",
          "text": [
            "Series is : 0     1\n",
            "1     2\n",
            "2     3\n",
            "3     4\n",
            "4     5\n",
            "5     6\n",
            "6     7\n",
            "7     8\n",
            "8     9\n",
            "9     3\n",
            "10    4\n",
            "11    5\n",
            "12    6\n",
            "13    7\n",
            "14    8\n",
            "15    9\n",
            "16    2\n",
            "17    3\n",
            "18    4\n",
            "19    5\n",
            "20    6\n",
            "21    7\n",
            "22    8\n",
            "23    9\n",
            "dtype: int64\n",
            "index of a series into a column of a data frame :     index  0\n",
            "0       0  1\n",
            "1       1  2\n",
            "2       2  3\n",
            "3       3  4\n",
            "4       4  5\n",
            "5       5  6\n",
            "6       6  7\n",
            "7       7  8\n",
            "8       8  9\n",
            "9       9  3\n",
            "10     10  4\n",
            "11     11  5\n",
            "12     12  6\n",
            "13     13  7\n",
            "14     14  8\n",
            "15     15  9\n",
            "16     16  2\n",
            "17     17  3\n",
            "18     18  4\n",
            "19     19  5\n",
            "20     20  6\n",
            "21     21  7\n",
            "22     22  8\n",
            "23     23  9\n"
          ],
          "name": "stdout"
        }
      ]
    },
    {
      "cell_type": "markdown",
      "metadata": {
        "id": "IcoYiZsu_u_p"
      },
      "source": [
        "#Question4"
      ]
    },
    {
      "cell_type": "code",
      "metadata": {
        "id": "D6qHZ5sRBKBK"
      },
      "source": [
        " import seaborn as sb\n",
        "import pandas as pd\n",
        "print(\"All dataset present in the seaborn library :\",sb.get_dataset_names()) # list of all dataset in the seaborn\n",
        "print()\n",
        " \n",
        "mpg = sb.load_dataset('mpg')\n",
        "print(\"mpg data set from seaborn :\", mpg) # loading mpg data set from seaborn library\n",
        "print()\n",
        "print(\"'anagrams' data set from seaborn :\", sb.load_dataset('anagrams'))\n",
        "print()\n",
        "print(\"car_crashes data set from seaborn :\", sb.load_dataset('car_crashes'))\n",
        "print()\n",
        "print(pd.read_csv(\"student_records.csv\")) # loading user data set using pandas library"
      ],
      "execution_count": null,
      "outputs": []
    },
    {
      "cell_type": "markdown",
      "metadata": {
        "id": "6OEOux8RBXXp"
      },
      "source": [
        "#Question5"
      ]
    },
    {
      "cell_type": "code",
      "metadata": {
        "id": "CZ9rBN7pBZ8o",
        "outputId": "dfefe1d1-ee90-45ee-80d9-8c367e84806d",
        "colab": {
          "base_uri": "https://localhost:8080/"
        }
      },
      "source": [
        " \n",
        "# Which country origin cars are a part of this dataset?\n",
        " \n",
        "import seaborn as sb\n",
        "import pandas as pd\n",
        "data_set = sb.load_dataset('mpg')\n",
        "print(data_set)\n",
        " \n",
        "df = pd.DataFrame(data_set)\n",
        "print(\" country origin :\", df.origin.unique())"
      ],
      "execution_count": 7,
      "outputs": [
        {
          "output_type": "stream",
          "text": [
            "      mpg  cylinders  ...  origin                       name\n",
            "0    18.0          8  ...     usa  chevrolet chevelle malibu\n",
            "1    15.0          8  ...     usa          buick skylark 320\n",
            "2    18.0          8  ...     usa         plymouth satellite\n",
            "3    16.0          8  ...     usa              amc rebel sst\n",
            "4    17.0          8  ...     usa                ford torino\n",
            "..    ...        ...  ...     ...                        ...\n",
            "393  27.0          4  ...     usa            ford mustang gl\n",
            "394  44.0          4  ...  europe                  vw pickup\n",
            "395  32.0          4  ...     usa              dodge rampage\n",
            "396  28.0          4  ...     usa                ford ranger\n",
            "397  31.0          4  ...     usa                 chevy s-10\n",
            "\n",
            "[398 rows x 9 columns]\n",
            " country origin : ['usa' 'japan' 'europe']\n"
          ],
          "name": "stdout"
        }
      ]
    },
    {
      "cell_type": "markdown",
      "metadata": {
        "id": "BRqr4tSLBivA"
      },
      "source": [
        "#Question6"
      ]
    },
    {
      "cell_type": "code",
      "metadata": {
        "id": "K-F5lzZbBlIz",
        "outputId": "93b270bb-07ad-41ed-bfef-9b0be49d6289",
        "colab": {
          "base_uri": "https://localhost:8080/"
        }
      },
      "source": [
        " \n",
        "import seaborn as sb\n",
        "import pandas as pd\n",
        " \n",
        "data_set = sb.load_dataset('mpg')\n",
        "print(data_set)\n",
        " \n",
        "df = pd.DataFrame(data_set)\n",
        " \n",
        "print(\" Data set extracted only for usa :\", df[df['origin'].str.contains(\"usa\")])"
      ],
      "execution_count": 21,
      "outputs": [
        {
          "output_type": "stream",
          "text": [
            "      mpg  cylinders  ...  origin                       name\n",
            "0    18.0          8  ...     usa  chevrolet chevelle malibu\n",
            "1    15.0          8  ...     usa          buick skylark 320\n",
            "2    18.0          8  ...     usa         plymouth satellite\n",
            "3    16.0          8  ...     usa              amc rebel sst\n",
            "4    17.0          8  ...     usa                ford torino\n",
            "..    ...        ...  ...     ...                        ...\n",
            "393  27.0          4  ...     usa            ford mustang gl\n",
            "394  44.0          4  ...  europe                  vw pickup\n",
            "395  32.0          4  ...     usa              dodge rampage\n",
            "396  28.0          4  ...     usa                ford ranger\n",
            "397  31.0          4  ...     usa                 chevy s-10\n",
            "\n",
            "[398 rows x 9 columns]\n",
            " Data set extracted only for usa :       mpg  cylinders  ...  origin                       name\n",
            "0    18.0          8  ...     usa  chevrolet chevelle malibu\n",
            "1    15.0          8  ...     usa          buick skylark 320\n",
            "2    18.0          8  ...     usa         plymouth satellite\n",
            "3    16.0          8  ...     usa              amc rebel sst\n",
            "4    17.0          8  ...     usa                ford torino\n",
            "..    ...        ...  ...     ...                        ...\n",
            "392  27.0          4  ...     usa           chevrolet camaro\n",
            "393  27.0          4  ...     usa            ford mustang gl\n",
            "395  32.0          4  ...     usa              dodge rampage\n",
            "396  28.0          4  ...     usa                ford ranger\n",
            "397  31.0          4  ...     usa                 chevy s-10\n",
            "\n",
            "[249 rows x 9 columns]\n"
          ],
          "name": "stdout"
        }
      ]
    },
    {
      "cell_type": "markdown",
      "metadata": {
        "id": "yj5LqnqkI__H"
      },
      "source": [
        "#Project"
      ]
    },
    {
      "cell_type": "code",
      "metadata": {
        "id": "IIFIcvK1JCbz"
      },
      "source": [
        " \n",
        "Name    Overall  Grade    Obedient    ResearchScore   ProjectScore    Recommend\n",
        "Henry   A         Y         90             85             90              Yes\n",
        "John    C         N         85             50             94              Yes\n",
        "Mervin  A         Y         95             10             89              Yes\n",
        "David   F         N         10             40             56              No\n",
        "Holmes  B         Y         75             71             99              Yes\n",
        "Marvin  E         N         20             30             77              No\n",
        "Simon   A         Y         92             79             45              Yes\n",
        "Robert  B         Y         60             59             67              Yes\n",
        "Trent   C         Y         75             33             78              Yes"
      ],
      "execution_count": null,
      "outputs": []
    }
  ]
}